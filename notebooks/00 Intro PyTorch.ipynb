{
 "cells": [
  {
   "cell_type": "markdown",
   "metadata": {},
   "source": [
    "Let's train a very simple non-linear multivariate regression model using PyTorch."
   ]
  },
  {
   "cell_type": "code",
   "execution_count": 1,
   "metadata": {},
   "outputs": [],
   "source": [
    "import numpy as np\n",
    "import torch\n",
    "from torch import nn\n",
    "from torch import optim\n",
    "import torch.nn.functional as F\n",
    "from torch.autograd import Variable"
   ]
  },
  {
   "cell_type": "markdown",
   "metadata": {},
   "source": [
    "Create a simple PyTorch Module. This Module models the function:\n",
    "\n",
    "$y = M_2 (M_1 x + b_1) + b_2$\n",
    "\n",
    "And you want to minimize:\n",
    "\n",
    "$L = || y - y_{observed} ||^2 + \\lambda_1 ||M_1||_F + + \\lambda_2 ||M_2||_F$\n",
    "\n",
    "where $x$ and $y$ are vectors and we're taking the Frobenius norm of our parameters. \n",
    "\n",
    "Note that $M_1$ and $M_2$ aren't necessarily square. In fact, if we set the shapes of $M_1$ and $M_2$ to be small we can try to \"squeeze\" into a smaller space and effectively build-in dimensionality reduction.\n",
    "\n",
    "This whole model is slightly more complicated than vanilla linear regression, and is now something like quadratic (because of the two matrix multiplies) vector regression (because we're predicting a vector outcome, not a scalar one)."
   ]
  },
  {
   "cell_type": "markdown",
   "metadata": {},
   "source": [
    "We can split the above model into three steps, which (1) initialize parameters, (2) compute a prediction, and (3) compute the loss.\n",
    "\n",
    "- Declare that you'll be optimizing two linear functions. This saves space for $M_1$, $M_2$, $b_1$ and $b_2$, but not $x$ or $y$. Putting it in the `__init__` function of a `nn.Module` is special: PyTorch will remember that these parameters are optimize-able.\n",
    "- `forward` tells us how to combine our parameters to make a prediction $y$\n",
    "- `loss` tells us how to compare our prediction vector to our observed vector, plus how to minimize our regularizer."
   ]
  },
  {
   "cell_type": "code",
   "execution_count": 13,
   "metadata": {},
   "outputs": [],
   "source": [
    "class Bottleneck(nn.Module):\n",
    "    def __init__(self, n_in_cols, n_out_cols, n_hidden=3):\n",
    "        super(Bottleneck, self).__init__()\n",
    "        self.lin1 = nn.Linear(n_in_cols, n_hidden)\n",
    "        self.lin2 = nn.Linear(n_hidden, n_out_cols)\n",
    "    \n",
    "    def forward(self, x):\n",
    "        # x is a minibatch of rows of our features\n",
    "        hidden = self.lin1(x)\n",
    "        # y is a minibatch of our predictions\n",
    "        y = self.lin2(hidden)\n",
    "        return y\n",
    "\n",
    "    def loss(self, prediction, target, lam1=1e-3, lam2=1e-3):\n",
    "        # This is just the mean squared error\n",
    "        loss_likelihood = ((prediction - target)**2.0).sum()\n",
    "        # This computes our Frobenius norm over both matrices\n",
    "        # Note that we can access the Linear model's variables\n",
    "        # directly if we'd like. No tricks here!\n",
    "        loss_prior_m1 = (self.lin1.weight**2.0 * lam1).sum()\n",
    "        loss_prior_m2 = (self.lin2.weight**2.0 * lam2).sum()\n",
    "        loss = loss_likelihood + loss_prior_m1 + loss_prior_m2\n",
    "        return loss"
   ]
  },
  {
   "cell_type": "markdown",
   "metadata": {},
   "source": [
    "Let's make up some fake data to fit. Annoyingly, it has to be `float32` or `int64`."
   ]
  },
  {
   "cell_type": "code",
   "execution_count": 60,
   "metadata": {},
   "outputs": [],
   "source": [
    "X = np.random.normal(size=(2000, 9)).astype(np.float32)\n",
    "Y = np.random.normal(size=(2000, 4)) + np.dot(X, np.random.normal(size=(9, 4)))\n",
    "Y = Y.astype(np.float32)"
   ]
  },
  {
   "cell_type": "code",
   "execution_count": 61,
   "metadata": {},
   "outputs": [
    {
     "data": {
      "text/plain": [
       "((2000, 9), (2000, 4))"
      ]
     },
     "execution_count": 61,
     "metadata": {},
     "output_type": "execute_result"
    }
   ],
   "source": [
    "X.shape, Y.shape"
   ]
  },
  {
   "cell_type": "markdown",
   "metadata": {},
   "source": [
    "Initialize the model. Note that we'll also initialize the \"optimizer\". Check out [this link](http://ruder.io/optimizing-gradient-descent/) to learn more about different optimizers. For now, `Adam` is a good choice."
   ]
  },
  {
   "cell_type": "code",
   "execution_count": 62,
   "metadata": {},
   "outputs": [],
   "source": [
    "model = Bottleneck(9, 4, 3)\n",
    "o = optim.Adam(model.parameters())"
   ]
  },
  {
   "cell_type": "code",
   "execution_count": 63,
   "metadata": {},
   "outputs": [],
   "source": [
    "def chunks(array, size):\n",
    "    \"\"\"Yield successive n-sized chunks from l.\"\"\"\n",
    "    for i in range(0, len(array), size):\n",
    "        yield array[i:i + size]"
   ]
  },
  {
   "cell_type": "code",
   "execution_count": 79,
   "metadata": {},
   "outputs": [],
   "source": [
    "batch_size = 100\n",
    "\n",
    "losses = []\n",
    "for epoch in range(100):\n",
    "    for feature, target in zip(chunks(X, batch_size), chunks(Y, batch_size)):\n",
    "        # This zeros the gradients on every parameter. \n",
    "        # This is easy to miss and hard to troubleshoot.\n",
    "        o.zero_grad()\n",
    "        # Convert \n",
    "        feature = Variable(torch.from_numpy(feature))\n",
    "        target = Variable(torch.from_numpy(target))\n",
    "        # Compute a prediction for these features\n",
    "        prediction = model.forward(feature)\n",
    "        # Compute a loss given what the true target outcome was\n",
    "        loss = model.loss(prediction, target)\n",
    "        break\n",
    "        # Backpropagate: compute the direction / gradient every model parameter\n",
    "        # defined in your __init__ should move in in order to minimize this loss\n",
    "        # However, we're not actually changing these parameters, we're just storing\n",
    "        # how they should change.\n",
    "        loss.backward()\n",
    "        # Now take a step & update the model parameters. The optimizer uses the gradient at \n",
    "        # defined on every parameter in our model and nudges it in that direction.\n",
    "        o.step()\n",
    "        print(epoch, loss.data)\n",
    "        # Record the loss per example\n",
    "        losses.append(loss.data.numpy() / len(feature))"
   ]
  },
  {
   "cell_type": "markdown",
   "metadata": {},
   "source": [
    "I can introspect my model and get the parameters out:"
   ]
  },
  {
   "cell_type": "code",
   "execution_count": 81,
   "metadata": {},
   "outputs": [
    {
     "data": {
      "text/plain": [
       "array([[ 0.5259787 ,  0.7521889 ,  0.3132558 , -0.518142  ,  0.12818258,\n",
       "        -0.2503705 ,  0.37496164, -0.27387676, -0.33467487],\n",
       "       [-0.06808124,  0.44446138, -0.64465845,  0.5860432 , -0.4473237 ,\n",
       "         0.00145725,  0.25221378,  0.18153091,  0.53698903],\n",
       "       [-0.29297045,  0.6610544 , -0.19084436, -0.0291331 ,  0.11641134,\n",
       "         0.759331  ,  0.67115396, -0.56799036, -0.20327038]],\n",
       "      dtype=float32)"
      ]
     },
     "execution_count": 81,
     "metadata": {},
     "output_type": "execute_result"
    }
   ],
   "source": [
    "model.lin1.weight.data.numpy()"
   ]
  },
  {
   "cell_type": "code",
   "execution_count": 84,
   "metadata": {},
   "outputs": [
    {
     "data": {
      "text/plain": [
       "array([ 0.25160268, -0.03068716,  0.23243836], dtype=float32)"
      ]
     },
     "execution_count": 84,
     "metadata": {},
     "output_type": "execute_result"
    }
   ],
   "source": [
    "model.lin1.bias.data.numpy()"
   ]
  },
  {
   "cell_type": "markdown",
   "metadata": {},
   "source": [
    "I can also see that the loss is simply a scalar:"
   ]
  },
  {
   "cell_type": "code",
   "execution_count": 82,
   "metadata": {},
   "outputs": [
    {
     "data": {
      "text/plain": [
       "tensor(1373.7545, grad_fn=<ThAddBackward>)"
      ]
     },
     "execution_count": 82,
     "metadata": {},
     "output_type": "execute_result"
    }
   ],
   "source": [
    "loss"
   ]
  },
  {
   "cell_type": "markdown",
   "metadata": {},
   "source": [
    "You can see that the gradient is zero before we call `loss.backward()`"
   ]
  },
  {
   "cell_type": "code",
   "execution_count": 86,
   "metadata": {},
   "outputs": [
    {
     "data": {
      "text/plain": [
       "tensor([0., 0., 0.])"
      ]
     },
     "execution_count": 86,
     "metadata": {},
     "output_type": "execute_result"
    }
   ],
   "source": [
    "model.lin1.bias.grad"
   ]
  },
  {
   "cell_type": "markdown",
   "metadata": {},
   "source": [
    "...And non-zero afterwards."
   ]
  },
  {
   "cell_type": "code",
   "execution_count": 89,
   "metadata": {},
   "outputs": [
    {
     "data": {
      "text/plain": [
       "tensor([0., 0., 0.])"
      ]
     },
     "execution_count": 89,
     "metadata": {},
     "output_type": "execute_result"
    }
   ],
   "source": [
    "model.lin1.bias.grad"
   ]
  },
  {
   "cell_type": "markdown",
   "metadata": {},
   "source": [
    "And after we run `o.step()` we'll notice that the bias parameter has been updated:"
   ]
  },
  {
   "cell_type": "code",
   "execution_count": 88,
   "metadata": {},
   "outputs": [
    {
     "data": {
      "text/plain": [
       "array([ 0.25160268, -0.03068716,  0.23243836], dtype=float32)"
      ]
     },
     "execution_count": 88,
     "metadata": {},
     "output_type": "execute_result"
    }
   ],
   "source": [
    "model.lin1.bias.data.numpy()"
   ]
  },
  {
   "cell_type": "markdown",
   "metadata": {},
   "source": [
    "Let's check on convergence:"
   ]
  },
  {
   "cell_type": "code",
   "execution_count": 56,
   "metadata": {},
   "outputs": [],
   "source": [
    "import numpy as np\n",
    "import matplotlib.pyplot as plt\n",
    "%matplotlib inline"
   ]
  },
  {
   "cell_type": "code",
   "execution_count": 57,
   "metadata": {},
   "outputs": [
    {
     "data": {
      "text/plain": [
       "[<matplotlib.lines.Line2D at 0x1144a9080>]"
      ]
     },
     "execution_count": 57,
     "metadata": {},
     "output_type": "execute_result"
    },
    {
     "data": {
      "image/png": "[encoded data removed]",
      "text/plain": [
       "<Figure size 864x864 with 1 Axes>"
      ]
     },
     "metadata": {},
     "output_type": "display_data"
    }
   ],
   "source": [
    "n = len(losses)\n",
    "smooth = np.convolve(losses, np.ones((n,))/n, mode='valid')\n",
    "plt.figure(figsize=(12, 12))\n",
    "plt.plot(losses[::10])\n",
    "plt.plot(smooth, c='r')"
   ]
  },
  {
   "cell_type": "markdown",
   "metadata": {},
   "source": [
    "Looks converged to me!"
   ]
  },
  {
   "cell_type": "markdown",
   "metadata": {},
   "source": [
    "You can always introspect the model:"
   ]
  },
  {
   "cell_type": "code",
   "execution_count": 59,
   "metadata": {},
   "outputs": [
    {
     "data": {
      "text/plain": [
       "array([[ 0.7794705 , -0.43732855, -1.0287371 , -0.11247949,  0.568342  ,\n",
       "         0.49956107,  0.19608836,  0.5779622 ,  0.06629488],\n",
       "       [-0.37802327, -0.17743906,  1.3143018 ,  0.01701887, -0.90420395,\n",
       "         1.060398  ,  0.75470215, -0.4543838 , -0.08977735],\n",
       "       [-0.2767018 ,  0.45004418, -0.7878338 , -0.25858688, -1.1907098 ,\n",
       "         0.35363907, -0.16729821, -0.11728066,  0.41289246]],\n",
       "      dtype=float32)"
      ]
     },
     "execution_count": 59,
     "metadata": {},
     "output_type": "execute_result"
    }
   ],
   "source": [
    "model.lin1.weight.data.numpy()"
   ]
  }
 ],
 "metadata": {
  "kernelspec": {
   "display_name": "Python 3",
   "language": "python",
   "name": "python3"
  },
  "language_info": {
   "codemirror_mode": {
    "name": "ipython",
    "version": 3
   },
   "file_extension": ".py",
   "mimetype": "text/x-python",
   "name": "python",
   "nbconvert_exporter": "python",
   "pygments_lexer": "ipython3",
   "version": "3.6.5"
  }
 },
 "nbformat": 4,
 "nbformat_minor": 2
}
